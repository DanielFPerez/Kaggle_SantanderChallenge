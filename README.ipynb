{
 "cells": [
  {
   "cell_type": "markdown",
   "metadata": {},
   "source": [
    "# Santander Customer Satisfaction\n",
    "Before starting, a short recap about the problem goal. Given is an anonymized dataset of santader customers containing a large number of numeric features and one binary value describing if the customer is satisfied or not (1 for unsatisfied customers, 0 for satisfied customers). \n",
    "\n",
    "**Goal** is to build a model to predict a customer satisfaction based on given features.\n",
    "\n",
    "## Prodvided Data\n",
    "- *train.csv*: labeled data containing features and target values. Each data sample (customer) is a row in the csv\n",
    "- *test.csv*: data containing data samples for which the target value must bepredicted\n",
    "\n",
    "## Problem Description\n",
    "- **Type**: binary classification problem\n",
    "- **Evaluation metric Santander**: Area under the ROC curve (aka AUC)\n",
    "\n",
    "First step to start proposing models for performing classification would be to analyze the structure of the data. \n"
   ]
  },
  {
   "cell_type": "code",
   "execution_count": 1,
   "metadata": {},
   "outputs": [],
   "source": [
    "import autoreload\n",
    "\n",
    "%load_ext autoreload\n",
    "%autoreload 2"
   ]
  },
  {
   "cell_type": "code",
   "execution_count": 2,
   "metadata": {},
   "outputs": [],
   "source": [
    "# ======================================================\n",
    "# Load Data\n",
    "# ======================================================\n",
    "from explore_data import load_data"
   ]
  },
  {
   "cell_type": "code",
   "execution_count": 3,
   "metadata": {},
   "outputs": [
    {
     "name": "stdout",
     "output_type": "stream",
     "text": [
      "Working directory: \t\t C:\\Users\\dpere\\Documents\\combient_challenge\n",
      "Path for data files: \t\t C:\\Users\\dpere\\Documents\\combient_challenge\\data\n",
      "Path to trainign data file: \t C:\\Users\\dpere\\Documents\\combient_challenge\\data\\train.csv\n"
     ]
    }
   ],
   "source": [
    "# Get relevant directories\n",
    "src_dir, data_dir, train_data_path = load_data.get_directories()"
   ]
  },
  {
   "cell_type": "code",
   "execution_count": 4,
   "metadata": {
    "scrolled": true
   },
   "outputs": [],
   "source": [
    "# Load training data csv as a pandas dataframe\n",
    "pd_train = load_data.get_dataframe(train_data_path)"
   ]
  },
  {
   "cell_type": "code",
   "execution_count": null,
   "metadata": {},
   "outputs": [],
   "source": []
  },
  {
   "cell_type": "code",
   "execution_count": null,
   "metadata": {},
   "outputs": [],
   "source": []
  },
  {
   "cell_type": "code",
   "execution_count": null,
   "metadata": {},
   "outputs": [],
   "source": []
  }
 ],
 "metadata": {
  "kernelspec": {
   "display_name": "Python 3",
   "language": "python",
   "name": "python3"
  },
  "language_info": {
   "codemirror_mode": {
    "name": "ipython",
    "version": 3
   },
   "file_extension": ".py",
   "mimetype": "text/x-python",
   "name": "python",
   "nbconvert_exporter": "python",
   "pygments_lexer": "ipython3",
   "version": "3.7.1"
  }
 },
 "nbformat": 4,
 "nbformat_minor": 2
}
