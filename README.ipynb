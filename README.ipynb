{
 "cells": [
  {
   "cell_type": "markdown",
   "metadata": {},
   "source": [
    "# Santander Customer Satisfaction\n",
    "Before starting, a short recap about the problem goal. Given is an anonymized dataset of santader customers containing a large number of numeric features and one binary value describing if the customer is satisfied or not (1 for unsatisfied customers, 0 for satisfied customers). \n",
    "\n",
    "**Goal** is to build a model to predict a customer satisfaction based on given features.\n",
    "\n",
    "- Prodvided Data\n",
    "    - *train.csv*: labeled data containing features and target values. Each data sample (customer) is a row in the csv\n",
    "\n",
    "- Problem Description\n",
    "    - **Type**: binary classification problem\n",
    "    - **Evaluation metric Santander**: Area under the ROC curve (aka AUC) \n",
    "\n",
    "\n",
    "## Before running solution\n",
    "Make sure you have the dependencies with their respective versions listed under \"__requirements.txt__\".\n",
    "\n",
    "## Run Solution\n",
    "Solution script is called \"__main_model.ipynb__\". Go to this script and just follow the steps there.\n",
    "\n",
    "The results from this script are saved in \"__./data/output/__\":\n",
    "* __rf_winner.pkl__: is a pickled python dictionary. The key \"rf_object\" contains the best performing classifier as value, the key \"auc_test\" contains the AUC-ROC highest value on the test set. \n",
    "* __rf_winner.png__: a plot of the AUC ROC of the \"rf_object\" over the cross validation values\n",
    "* __log__: subdirectory containing:\n",
    "    * __log.csv__: comma separated value table containing the models consequently achieving the best AUC ROC values when performing cross validation, including the model achieving best AUC ROC value over the test set\n",
    "    * __cv_roc_plot_n.png__: image corresponding to n-th entry in log.csv\n",
    "* __log_backup__: folder containing a run over \"__main_model.ipynb__\" on local machine before deliver to combient\n",
    "    \n",
    "## Folder Structure\n",
    "* __data__: contains input and output data\n",
    "* __include__: contains helper modules for main_model.ipynb\n",
    "* __presi__: contains the presentation\n",
    "* __00_ExploreData.ipynb__: First notebook generated intended for a first evaluation of the provided data\n",
    "* __01_test_pipeline.ipynb__: file for testig. Was overwritten several times\n",
    "* __requriements.txt__: python environment requirements\n",
    "* __main_model.ipynb__: see \"Run solution\"\n",
    "\n",
    "\n",
    "\n"
   ]
  },
  {
   "cell_type": "code",
   "execution_count": 1,
   "metadata": {},
   "outputs": [],
   "source": [
    "import autoreload\n",
    "\n",
    "%load_ext autoreload\n",
    "%autoreload 2"
   ]
  },
  {
   "cell_type": "code",
   "execution_count": 2,
   "metadata": {},
   "outputs": [],
   "source": [
    "# ======================================================\n",
    "# Load Data\n",
    "# ======================================================\n",
    "from explore_data import load_data"
   ]
  },
  {
   "cell_type": "code",
   "execution_count": 3,
   "metadata": {},
   "outputs": [
    {
     "name": "stdout",
     "output_type": "stream",
     "text": [
      "Working directory: \t\t C:\\Users\\dpere\\Documents\\combient_challenge\n",
      "Path for data files: \t\t C:\\Users\\dpere\\Documents\\combient_challenge\\data\n",
      "Path to trainign data file: \t C:\\Users\\dpere\\Documents\\combient_challenge\\data\\train.csv\n"
     ]
    }
   ],
   "source": [
    "# Get relevant directories\n",
    "src_dir, data_dir, train_data_path = load_data.get_directories()"
   ]
  },
  {
   "cell_type": "code",
   "execution_count": 4,
   "metadata": {
    "scrolled": true
   },
   "outputs": [],
   "source": [
    "# Load training data csv as a pandas dataframe\n",
    "pd_train = load_data.get_dataframe(train_data_path)"
   ]
  },
  {
   "cell_type": "code",
   "execution_count": null,
   "metadata": {},
   "outputs": [],
   "source": []
  },
  {
   "cell_type": "code",
   "execution_count": null,
   "metadata": {},
   "outputs": [],
   "source": []
  },
  {
   "cell_type": "code",
   "execution_count": null,
   "metadata": {},
   "outputs": [],
   "source": []
  }
 ],
 "metadata": {
  "kernelspec": {
   "display_name": "Python 3",
   "language": "python",
   "name": "python3"
  },
  "language_info": {
   "codemirror_mode": {
    "name": "ipython",
    "version": 3
   },
   "file_extension": ".py",
   "mimetype": "text/x-python",
   "name": "python",
   "nbconvert_exporter": "python",
   "pygments_lexer": "ipython3",
   "version": "3.7.1"
  }
 },
 "nbformat": 4,
 "nbformat_minor": 2
}
