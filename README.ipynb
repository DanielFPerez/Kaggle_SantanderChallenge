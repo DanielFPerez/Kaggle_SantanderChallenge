{
 "cells": [
  {
   "cell_type": "markdown",
   "metadata": {},
   "source": [
    "# Santander Customer Satisfaction\n",
    "Before starting, a short recap about the problem goal. Given is an anonymized dataset of santader customers containing a large number of numeric features and one binary value describing if the customer is satisfied or not (1 for unsatisfied customers, 0 for satisfied customers). \n",
    "\n",
    "**Goal** is to build a model to predict a customer satisfaction based on given features.\n",
    "\n",
    "- Prodvided Data\n",
    "    - *train.csv*: labeled data containing features and target values. Each data sample (customer) is a row in the csv\n",
    "\n",
    "- Problem Description\n",
    "    - **Type**: binary classification problem\n",
    "    - **Evaluation metric Santander**: Area under the ROC curve (aka AUC) \n",
    "\n",
    "\n",
    "## Before running solution\n",
    "Make sure you have the dependencies: \n",
    "* python=3.6.8\n",
    "* numpy=1.16.2\n",
    "* pandas=0.24\n",
    "* scikit-learn=0.20.3\n",
    "* scipy=1.2.1\n",
    "* seaborn=0.9.0\n",
    "* imbalanced-learn=0.4.3\n",
    "* pickleshare=0.7.5\n",
    "* xgboost==0.82, this is only used in the script \"01_testpipeline.ipynb\" but is not required to run solution\n",
    "* matplotlib=3.0.3\n",
    "* pyqt=5.9.2\n",
    "\n",
    "A yaml file from the conda environment used for this task was generated and included: \"__environment.yml__\", it however comes with some packages which are not required here.\n",
    "\n",
    "## Run Solution\n",
    "Solution script is called \"__main_model.ipynb__\". Go to this script and just follow the steps there.\n",
    "\n",
    "The results from this script are saved in \"__./data/output/__\":\n",
    "* __rf_winner.pkl__: is a pickled python dictionary. The key \"rf_object\" contains the best performing classifier as value, the key \"auc_test\" contains the AUC-ROC highest value on the test set. \n",
    "* __rf_winner.png__: a plot of the AUC ROC of the \"rf_object\" over the cross validation values\n",
    "* __log__: subdirectory containing:\n",
    "    * __log.csv__: comma separated value table containing the models consequently achieving the best AUC ROC values when performing cross validation, including the model achieving best AUC ROC value over the test set\n",
    "    * __cv_roc_plot_n.png__: image corresponding to n-th entry in log.csv\n",
    "* __log_backup__: folder containing a run over \"__main_model.ipynb__\" on local machine before deliver to combient\n",
    "    \n",
    "## Folder Structure\n",
    "* __data__: contains input and output data\n",
    "* __include__: contains helper modules for main_model.ipynb\n",
    "* __presi__: contains the presentation\n",
    "* __00_ExploreData.ipynb__: First notebook generated intended for a first evaluation of the provided data\n",
    "* __01_test_pipeline.ipynb__: file for testig. Was overwritten several times\n",
    "* __requriements.txt__: python environment requirements\n",
    "* __main_model.ipynb__: see \"Run solution\"\n",
    "\n",
    "\n",
    "\n"
   ]
  },
  {
   "cell_type": "code",
   "execution_count": null,
   "metadata": {},
   "outputs": [],
   "source": []
  }
 ],
 "metadata": {
  "kernelspec": {
   "display_name": "Python 3",
   "language": "python",
   "name": "python3"
  },
  "language_info": {
   "codemirror_mode": {
    "name": "ipython",
    "version": 3
   },
   "file_extension": ".py",
   "mimetype": "text/x-python",
   "name": "python",
   "nbconvert_exporter": "python",
   "pygments_lexer": "ipython3",
   "version": "3.7.1"
  }
 },
 "nbformat": 4,
 "nbformat_minor": 2
}
